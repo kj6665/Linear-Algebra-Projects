{
  "nbformat": 4,
  "nbformat_minor": 0,
  "metadata": {
    "colab": {
      "name": "Copy of Sports Teams Rankings.ipynb",
      "provenance": [],
      "include_colab_link": true
    },
    "kernelspec": {
      "name": "python3",
      "display_name": "Python 3"
    }
  },
  "cells": [
    {
      "cell_type": "markdown",
      "metadata": {
        "id": "view-in-github",
        "colab_type": "text"
      },
      "source": [
        "<a href=\"https://colab.research.google.com/github/kj6665/Linear-Algebra-Projects/blob/master/Copy_of_Sports_Teams_Rankings.ipynb\" target=\"_parent\"><img src=\"https://colab.research.google.com/assets/colab-badge.svg\" alt=\"Open In Colab\"/></a>"
      ]
    },
    {
      "cell_type": "markdown",
      "metadata": {
        "id": "TwGBRAD9R6W4"
      },
      "source": [
        "# Load the preliminary code"
      ]
    },
    {
      "cell_type": "code",
      "metadata": {
        "id": "NaP8xyCfRrUg"
      },
      "source": [
        "import matplotlib.pyplot as plt\n",
        "from sympy import Poly\n",
        "import sympy as sym\n",
        "import numpy as np\n",
        "from numpy import c_\n",
        "\n",
        "# We'll specify that x and t are variables:\n",
        "x, t = sym.symbols('x, t')\n",
        "\n",
        "ll = \"loaded\""
      ],
      "execution_count": 1,
      "outputs": []
    },
    {
      "cell_type": "code",
      "metadata": {
        "id": "CANB9fuMRyBP",
        "outputId": "78aa557b-b971-4c99-911e-65f03386625e",
        "colab": {
          "base_uri": "https://localhost:8080/",
          "height": 34
        }
      },
      "source": [
        "lll = \" correctly!\"\n",
        "\n",
        "def rref(matrix):\n",
        "    A = np.array(matrix, dtype=np.float64)\n",
        "    \n",
        "    r = 0 #row\n",
        "    c = 0 #column\n",
        "\n",
        "    (maxr, maxc) = A.shape\n",
        "\n",
        "    prev_row_pivot = -1   # The previous row with a leading term:\n",
        "    tmp_pivot_row = -1\n",
        "    this_pivot_row = -1\n",
        "\n",
        "    for c in range(maxc):  # go through each column\n",
        "      tmp_pivot_row = -1  # reset the tmp pivot row\n",
        "      this_pivot_row = -1  # reset this pivot row\n",
        "      for r in range(maxr):  # Find the leading term in this column below prev_row_pivot\n",
        "        if ((r > prev_row_pivot) and (A[r][c] != 0.0)):\n",
        "          tmp_pivot_row = r  # find the new pivot row\n",
        "      if (tmp_pivot_row > -1):  # we found a candidate for the leading term:\n",
        "        #swap row this_pivot_row with (prev_row_pivot + 1)\n",
        "        A[[tmp_pivot_row, prev_row_pivot+1]] = A[[prev_row_pivot + 1, tmp_pivot_row]]\n",
        "        #set this_pivot_row to prev_row_pivot+1\n",
        "        this_pivot_row = prev_row_pivot + 1\n",
        "        #Now, normalize the row based on the pivot value:\n",
        "        A[ this_pivot_row ] = A[ this_pivot_row ] / A[ this_pivot_row ][c]\n",
        "        #Then, use this row to force 0's above and below the pivot entry:\n",
        "        #subtract multiples of of the this_pivot_row row from the others\n",
        "        for r_ in range(len(A)):\n",
        "            if r_ != this_pivot_row:\n",
        "                A[r_] = A[r_] - A[this_pivot_row] * A[r_][c] / A[this_pivot_row][c]\n",
        "        prev_row_pivot = this_pivot_row\n",
        "    return A   \n",
        "\n",
        "\n",
        "def is_singular(matrix):\n",
        "  singular = True\n",
        "  notsingular = False\n",
        "\n",
        "  (mr, mc) = matrix.shape\n",
        "  \n",
        "  return_value = notsingular\n",
        "  if (mc - np.linalg.linalg.matrix_rank(matrix) > 0) :\n",
        "    return_value = singular\n",
        "  return return_value\n",
        " \n",
        "    \n",
        "    \n",
        "\n",
        "print(\">> The page \", ll, lll)"
      ],
      "execution_count": 2,
      "outputs": [
        {
          "output_type": "stream",
          "text": [
            ">> The page  loaded  correctly!\n"
          ],
          "name": "stdout"
        }
      ]
    },
    {
      "cell_type": "markdown",
      "metadata": {
        "id": "dCB31bhvTulU"
      },
      "source": [
        "# Ranking Teams based on games\n",
        "\n",
        "From our packet, we saw there were five games:\n",
        "\n",
        "Home  | Away\n",
        "------|------\n",
        "Winona State 16 | Sioux Falls 15\n",
        "Winona State 34 | Augustana 20\n",
        "Sioux Falls 51  | Augustana 13\n",
        "Duluth 28       |  Augustana 17\n",
        "Winona State 17 | Duluth 37\n",
        "\n",
        "Let's encode this system into a matrix.\n",
        "\n",
        "The unknown rankings are $r_w, r_s, r_a, r_d$.\n",
        "\n",
        "The system looks like $M \\vec{x} = \\vec{b}$, or\n",
        "\n",
        "$$\n",
        "\\left( \\begin{array}{cccc} 1 & -1 & 0 & 0 \\\\ 1 & 0 & -1 & 0 \\\\ 0 & 1 & -1 & 0 \\\\ 0 & 0 & -1 & 1 \\\\ -1 & 0  & 0 & 1 \\\\ \\end{array} \\right) \\, \\left( \\begin{array}{c} r_w \\\\ r_s \\\\ r_a \\\\ r_d \\\\ \\end{array} \\right) = \\left( \\begin{array}{c} 1 \\\\ 14 \\\\ 38 \\\\ 11 \\\\ 20 \\\\ \\end{array} \\right)$$\n",
        "\n",
        "We'll solve this system using least squares \n",
        "$$M^T I M \\vec{x} = M^T I \\vec{b} $$\n",
        "\n",
        "$$ \\vec{x} = \\left( M^T I M  \\right)^{-1} M^T I \\vec{b} $$\n",
        "\n",
        "\n",
        "\n",
        "\n"
      ]
    },
    {
      "cell_type": "code",
      "metadata": {
        "id": "zZOH_e5mViMs",
        "outputId": "18636964-1b1f-4273-e86d-a2aa86a9c0ce",
        "colab": {
          "base_uri": "https://localhost:8080/",
          "height": 102
        }
      },
      "source": [
        "# create the matrix:\n",
        "M = np.matrix([[1, -1, 0, 0],\n",
        "               [1, 0, -1, 0],\n",
        "               [0, 1, -1, 0],\n",
        "               [0, 0, -1, 1],\n",
        "               [-1, 0, 0, 1]])\n",
        "\n",
        "\n",
        "# create the vector for the right hand side:\n",
        "pts = np.matrix([[1], [14], [38], [11], [20]])\n",
        " \n",
        "#Make sure the system looks appropriate:\n",
        "print(np.c_[M,pts])"
      ],
      "execution_count": 3,
      "outputs": [
        {
          "output_type": "stream",
          "text": [
            "[[ 1 -1  0  0  1]\n",
            " [ 1  0 -1  0 14]\n",
            " [ 0  1 -1  0 38]\n",
            " [ 0  0 -1  1 11]\n",
            " [-1  0  0  1 20]]\n"
          ],
          "name": "stdout"
        }
      ]
    },
    {
      "cell_type": "code",
      "metadata": {
        "id": "s_r-ljCGWB18",
        "outputId": "ec3bb870-c587-4dfa-f818-48b91292df80",
        "colab": {
          "base_uri": "https://localhost:8080/",
          "height": 340
        }
      },
      "source": [
        "# Generate the transpose of M:\n",
        "MT = M.transpose()\n",
        "\n",
        "print(\"The Transpose of M is:\")\n",
        "print(MT)\n",
        "\n",
        "# and find MT*M and MT*pts:\n",
        "print(\"\\n\")\n",
        "print(\"MT * M is: \")\n",
        "MTM = MT * M\n",
        "print(MTM)\n",
        "\n",
        "print(\"\\n\")\n",
        "print(\"MT * pts is:\")\n",
        "MTpts = MT * pts\n",
        "print(MTpts)\n"
      ],
      "execution_count": 4,
      "outputs": [
        {
          "output_type": "stream",
          "text": [
            "The Transpose of M is:\n",
            "[[ 1  1  0  0 -1]\n",
            " [-1  0  1  0  0]\n",
            " [ 0 -1 -1 -1  0]\n",
            " [ 0  0  0  1  1]]\n",
            "\n",
            "\n",
            "MT * M is: \n",
            "[[ 3 -1 -1 -1]\n",
            " [-1  2 -1  0]\n",
            " [-1 -1  3 -1]\n",
            " [-1  0 -1  2]]\n",
            "\n",
            "\n",
            "MT * pts is:\n",
            "[[ -5]\n",
            " [ 37]\n",
            " [-63]\n",
            " [ 31]]\n"
          ],
          "name": "stdout"
        }
      ]
    },
    {
      "cell_type": "markdown",
      "metadata": {
        "id": "x38H0uPwbhpF"
      },
      "source": [
        "If $M^T M$ has an inverse, then we can use it.  But, if $M^T M$ is singular, then it doesn't have an inverse.  In this situation, we need to replace every entry in one row (say the bottom row) of $M^T M$ and $M^T \\vec{pts}$ with 1's.  (This knocks the system out of *not* having an inverse, so it will now have an inverse.)"
      ]
    },
    {
      "cell_type": "code",
      "metadata": {
        "id": "1ebWW4rZaopa",
        "outputId": "04f0b96d-ce5e-49bd-f332-fb67fb5c50c2",
        "colab": {
          "base_uri": "https://localhost:8080/",
          "height": 34
        }
      },
      "source": [
        "#  Check if MTM is singular\n",
        "is_singular(MT*M)"
      ],
      "execution_count": 5,
      "outputs": [
        {
          "output_type": "execute_result",
          "data": {
            "text/plain": [
              "True"
            ]
          },
          "metadata": {
            "tags": []
          },
          "execution_count": 5
        }
      ]
    },
    {
      "cell_type": "code",
      "metadata": {
        "id": "Hs_ZR78AbziT",
        "outputId": "bf1c7fc5-e8dc-44c3-a54e-d0c55238daed",
        "colab": {
          "base_uri": "https://localhost:8080/",
          "height": 221
        }
      },
      "source": [
        "# If MTM is singular, then adjust one row of MTM and MT pts to be just 1's:\n",
        "\n",
        "#MTM[3] is the entire 4th row of MTM, \n",
        "#so MTM[3] = 1 will put 1's in MTM's 4th row.\n",
        "\n",
        "MTM[3] = 1\n",
        "MTpts[3] = 1\n",
        "\n",
        "print(\"MTM is now: \")\n",
        "print(MTM)\n",
        "\n",
        "print(\"and MTpts is now:\")\n",
        "print(MTpts)\n",
        "\n",
        "print(\"Is our modified MTM singular?\")\n",
        "is_singular(MTM)"
      ],
      "execution_count": 6,
      "outputs": [
        {
          "output_type": "stream",
          "text": [
            "MTM is now: \n",
            "[[ 3 -1 -1 -1]\n",
            " [-1  2 -1  0]\n",
            " [-1 -1  3 -1]\n",
            " [ 1  1  1  1]]\n",
            "and MTpts is now:\n",
            "[[ -5]\n",
            " [ 37]\n",
            " [-63]\n",
            " [  1]]\n",
            "Is our modified MTM singular?\n"
          ],
          "name": "stdout"
        },
        {
          "output_type": "execute_result",
          "data": {
            "text/plain": [
              "False"
            ]
          },
          "metadata": {
            "tags": []
          },
          "execution_count": 6
        }
      ]
    },
    {
      "cell_type": "code",
      "metadata": {
        "id": "48WK4ZH7WRxH",
        "outputId": "beac22d3-75c1-4e51-e575-d46e50f35172",
        "colab": {
          "base_uri": "https://localhost:8080/",
          "height": 221
        }
      },
      "source": [
        "#Find our solution using the inverse of MTM:\n",
        "\n",
        "#First, find the inverse of MTM:\n",
        "MTMI = np.linalg.inv(MTM)\n",
        "\n",
        "print(\"The inverse of MTM is:\")\n",
        "print(MTMI)\n",
        "\n",
        "#Now, use the inverse of MTM to solve for the rankings:\n",
        "\n",
        "print(\"\\n\")\n",
        "print(\"The solution are rankings:\")\n",
        "MTMI * MTpts"
      ],
      "execution_count": 7,
      "outputs": [
        {
          "output_type": "stream",
          "text": [
            "The inverse of MTM is:\n",
            "[[ 2.50000000e-01  0.00000000e+00  1.85037171e-17  2.50000000e-01]\n",
            " [ 1.25000000e-01  5.00000000e-01  1.25000000e-01  2.50000000e-01]\n",
            " [ 0.00000000e+00  0.00000000e+00  2.50000000e-01  2.50000000e-01]\n",
            " [-3.75000000e-01 -5.00000000e-01 -3.75000000e-01  2.50000000e-01]]\n",
            "\n",
            "\n",
            "The solution are rankings:\n"
          ],
          "name": "stdout"
        },
        {
          "output_type": "execute_result",
          "data": {
            "text/plain": [
              "matrix([[ -1.  ],\n",
              "        [ 10.25],\n",
              "        [-15.5 ],\n",
              "        [  7.25]])"
            ]
          },
          "metadata": {
            "tags": []
          },
          "execution_count": 7
        }
      ]
    },
    {
      "cell_type": "markdown",
      "metadata": {
        "id": "YOTdLT4-R-1h"
      },
      "source": [
        "#  Game Data\n",
        "\n",
        "Find the game data for the four teams in the NFC North and NFC South.\n",
        "\n",
        "The teams are:\n",
        "\n",
        "* **NFC North:**  Green Bay Packers, Chicago Bears, Detroit Lions, Minnesota Vikings\n",
        "* **NFC South:**  Atlanta Falcons, Carolina Panthers, New Orleans Saints, Tampa Bay Buccaneers\n",
        "\n",
        "\n",
        "It may be helpful to do a google search to find the data.\n",
        "\n",
        "Be sure to create your matrix on the handout, then enter the data for the system below.\n",
        "\n"
      ]
    },
    {
      "cell_type": "code",
      "metadata": {
        "id": "RrMkbXIC5v_X",
        "outputId": "5da97498-6262-4703-fd9c-fd8a4d3df138",
        "colab": {
          "base_uri": "https://localhost:8080/",
          "height": 204
        }
      },
      "source": [
        " # create the matrix:\n",
        "M = np.matrix([[1, 0, -1, 0, 0, 0, 0, 0],\n",
        "               [1, 0, 0, -1, 0, 0, 0, 0],\n",
        "               [1, 0, 0, 0, 0, 0, -1, 0],\n",
        "               [0, 1, -1, 0, 0, 0, 0, 0],\n",
        "               [0, 1, 0, 0, -1, 0, 0, 0],\n",
        "               [0, 1, 0, 0, 0, 0, 0, -1],\n",
        "               [0, 0, -1, 0, 0, 0, 1, 0],\n",
        "               [1, 0, 0, 0, -1, 0, 0, 0],\n",
        "               [0, 0, 0, 0, -1, 1, 0, 0],\n",
        "               [0, 0, 0, 0, 0, 0, 1, -1],\n",
        "               [0, 0, 0, 0, 0, -1, 0, 1]])\n",
        "\n",
        "\n",
        "# create the vector for the right hand side:\n",
        "pts = np.matrix([[21], [9], [7], [5], [4], [1], [6], [14], [7], [11], [14]])\n",
        " \n",
        "#Make sure the system looks appropriate:\n",
        "print(np.c_[M,pts])"
      ],
      "execution_count": 8,
      "outputs": [
        {
          "output_type": "stream",
          "text": [
            "[[ 1  0 -1  0  0  0  0  0 21]\n",
            " [ 1  0  0 -1  0  0  0  0  9]\n",
            " [ 1  0  0  0  0  0 -1  0  7]\n",
            " [ 0  1 -1  0  0  0  0  0  5]\n",
            " [ 0  1  0  0 -1  0  0  0  4]\n",
            " [ 0  1  0  0  0  0  0 -1  1]\n",
            " [ 0  0 -1  0  0  0  1  0  6]\n",
            " [ 1  0  0  0 -1  0  0  0 14]\n",
            " [ 0  0  0  0 -1  1  0  0  7]\n",
            " [ 0  0  0  0  0  0  1 -1 11]\n",
            " [ 0  0  0  0  0 -1  0  1 14]]\n"
          ],
          "name": "stdout"
        }
      ]
    },
    {
      "cell_type": "code",
      "metadata": {
        "id": "TLLB3Ebe587M",
        "outputId": "d452374c-5da2-4df7-db1f-fcc03eb5846e",
        "colab": {
          "base_uri": "https://localhost:8080/",
          "height": 544
        }
      },
      "source": [
        "# Generate the transpose of M:\n",
        "MT = M.transpose()\n",
        "\n",
        "print(\"The Transpose of M is:\")\n",
        "print(MT)\n",
        "\n",
        "# and find MT*M and MT*pts:\n",
        "print(\"\\n\")\n",
        "print(\"MT * M is: \")\n",
        "MTM = MT * M\n",
        "print(MTM)\n",
        "\n",
        "print(\"\\n\")\n",
        "print(\"MT * pts is:\")\n",
        "MTpts = MT * pts\n",
        "print(MTpts)\n"
      ],
      "execution_count": 9,
      "outputs": [
        {
          "output_type": "stream",
          "text": [
            "The Transpose of M is:\n",
            "[[ 1  1  1  0  0  0  0  1  0  0  0]\n",
            " [ 0  0  0  1  1  1  0  0  0  0  0]\n",
            " [-1  0  0 -1  0  0 -1  0  0  0  0]\n",
            " [ 0 -1  0  0  0  0  0  0  0  0  0]\n",
            " [ 0  0  0  0 -1  0  0 -1 -1  0  0]\n",
            " [ 0  0  0  0  0  0  0  0  1  0 -1]\n",
            " [ 0  0 -1  0  0  0  1  0  0  1  0]\n",
            " [ 0  0  0  0  0 -1  0  0  0 -1  1]]\n",
            "\n",
            "\n",
            "MT * M is: \n",
            "[[ 4  0 -1 -1 -1  0 -1  0]\n",
            " [ 0  3 -1  0 -1  0  0 -1]\n",
            " [-1 -1  3  0  0  0 -1  0]\n",
            " [-1  0  0  1  0  0  0  0]\n",
            " [-1 -1  0  0  3 -1  0  0]\n",
            " [ 0  0  0  0 -1  2  0 -1]\n",
            " [-1  0 -1  0  0  0  3 -1]\n",
            " [ 0 -1  0  0  0 -1 -1  3]]\n",
            "\n",
            "\n",
            "MT * pts is:\n",
            "[[ 51]\n",
            " [ 10]\n",
            " [-32]\n",
            " [ -9]\n",
            " [-25]\n",
            " [ -7]\n",
            " [ 10]\n",
            " [  2]]\n"
          ],
          "name": "stdout"
        }
      ]
    },
    {
      "cell_type": "code",
      "metadata": {
        "id": "VXqKSDj06BVa",
        "outputId": "07f89bfc-8931-4900-9bda-ac9a7e51e9ad",
        "colab": {
          "base_uri": "https://localhost:8080/",
          "height": 34
        }
      },
      "source": [
        "#  Check if MTM is singular\n",
        "is_singular(MT*M)"
      ],
      "execution_count": 10,
      "outputs": [
        {
          "output_type": "execute_result",
          "data": {
            "text/plain": [
              "True"
            ]
          },
          "metadata": {
            "tags": []
          },
          "execution_count": 10
        }
      ]
    },
    {
      "cell_type": "code",
      "metadata": {
        "id": "5E2eXRT76MQh",
        "outputId": "331dac3d-cb78-4ce9-abcf-235b163b69f7",
        "colab": {
          "base_uri": "https://localhost:8080/",
          "height": 357
        }
      },
      "source": [
        "# Careful - you might not need to do this!  \n",
        "# Be sure to check whether MTM is singular on the previous line.\n",
        "\n",
        "# If MTM is singular, then adjust one row of MTM and MT pts to be just 1's:\n",
        "\n",
        "#MTM[3] is the entire 4th row of MTM, \n",
        "#so MTM[3] = 1 will put 1's in MTM's 4th row.\n",
        "\n",
        "MTM[7] = 1\n",
        "MTpts[7] = 1\n",
        "\n",
        "print(\"MTM is now: \")\n",
        "print(MTM)\n",
        "\n",
        "print(\"and MTpts is now:\")\n",
        "print(MTpts)\n",
        "\n",
        "print(\"Is our modified MTM singular?\")\n",
        "is_singular(MTM)"
      ],
      "execution_count": 11,
      "outputs": [
        {
          "output_type": "stream",
          "text": [
            "MTM is now: \n",
            "[[ 4  0 -1 -1 -1  0 -1  0]\n",
            " [ 0  3 -1  0 -1  0  0 -1]\n",
            " [-1 -1  3  0  0  0 -1  0]\n",
            " [-1  0  0  1  0  0  0  0]\n",
            " [-1 -1  0  0  3 -1  0  0]\n",
            " [ 0  0  0  0 -1  2  0 -1]\n",
            " [-1  0 -1  0  0  0  3 -1]\n",
            " [ 1  1  1  1  1  1  1  1]]\n",
            "and MTpts is now:\n",
            "[[ 51]\n",
            " [ 10]\n",
            " [-32]\n",
            " [ -9]\n",
            " [-25]\n",
            " [ -7]\n",
            " [ 10]\n",
            " [  1]]\n",
            "Is our modified MTM singular?\n"
          ],
          "name": "stdout"
        },
        {
          "output_type": "execute_result",
          "data": {
            "text/plain": [
              "False"
            ]
          },
          "metadata": {
            "tags": []
          },
          "execution_count": 11
        }
      ]
    },
    {
      "cell_type": "code",
      "metadata": {
        "id": "UkDKmNba6YHi",
        "outputId": "dc5829fb-250c-4c77-d8e0-aef497d4787d",
        "colab": {
          "base_uri": "https://localhost:8080/",
          "height": 493
        }
      },
      "source": [
        "#Find our solution using the inverse of MTM:\n",
        "\n",
        "#First, find the inverse of MTM:\n",
        "MTMI = np.linalg.inv(MTM)\n",
        "\n",
        "print(\"The inverse of MTM is:\")\n",
        "print(MTMI)\n",
        "\n",
        "#Now, use the inverse of MTM to solve for the rankings:\n",
        "\n",
        "print(\"\\n\")\n",
        "print(\"The solution are rankings:\")\n",
        "MTMI * MTpts"
      ],
      "execution_count": 12,
      "outputs": [
        {
          "output_type": "stream",
          "text": [
            "The inverse of MTM is:\n",
            "[[ 0.35909091  0.02727273  0.12727273  0.23409091  0.07954545 -0.02272727\n",
            "   0.12045455  0.125     ]\n",
            " [-0.12272727  0.28181818 -0.01818182 -0.24772727 -0.01136364 -0.06818182\n",
            "  -0.08863636  0.125     ]\n",
            " [ 0.07727273  0.08181818  0.38181818 -0.04772727 -0.01136364 -0.06818182\n",
            "   0.11136364  0.125     ]\n",
            " [ 0.35909091  0.02727273  0.12727273  1.23409091  0.07954545 -0.02272727\n",
            "   0.12045455  0.125     ]\n",
            " [ 0.00454545  0.06363636 -0.03636364 -0.12045455  0.35227273  0.11363636\n",
            "  -0.05227273  0.125     ]\n",
            " [-0.22272727 -0.11818182 -0.21818182 -0.34772727 -0.01136364  0.43181818\n",
            "  -0.18863636  0.125     ]\n",
            " [-0.00454545 -0.06363636  0.03636364 -0.12954545 -0.10227273 -0.11363636\n",
            "   0.30227273  0.125     ]\n",
            " [-0.45       -0.3        -0.4        -0.575      -0.375      -0.25\n",
            "  -0.325       0.125     ]]\n",
            "\n",
            "\n",
            "The solution are rankings:\n"
          ],
          "name": "stdout"
        },
        {
          "output_type": "execute_result",
          "data": {
            "text/plain": [
              "matrix([[11.90681818],\n",
              "        [-0.62954545],\n",
              "        [-5.02954545],\n",
              "        [ 2.90681818],\n",
              "        [-6.88409091],\n",
              "        [-6.92954545],\n",
              "        [ 5.63409091],\n",
              "        [ 0.025     ]])"
            ]
          },
          "metadata": {
            "tags": []
          },
          "execution_count": 12
        }
      ]
    },
    {
      "cell_type": "code",
      "metadata": {
        "id": "jpzyJGnuOEHX"
      },
      "source": [
        ""
      ],
      "execution_count": null,
      "outputs": []
    }
  ]
}